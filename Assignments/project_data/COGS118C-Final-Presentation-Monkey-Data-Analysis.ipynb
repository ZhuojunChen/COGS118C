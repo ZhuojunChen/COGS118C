{
 "cells": [
  {
   "cell_type": "markdown",
   "metadata": {},
   "source": [
    "# Research Question\n",
    "From the observed data in Monkey ECoG, we decided to investigate in the temporal region. Is there a significant difference between **theta waves (4-10Hz)** and **delta waves (0.5-4Hz)** during eyes closed (resting state) and anesthesia in the temporal lobe of the brain?\n",
    "### By: Guillermo Rios Martinez, Zhi Chong Chris Lin, Jiawei Zheng, Zhuojun Chen"
   ]
  },
  {
   "cell_type": "markdown",
   "metadata": {},
   "source": [
    "- Anesthesia is used in various medical procedures to put a patient into a sleep state so doctors can complete some type of procedure. Anesthesia is given to the patient through a breathing mask or IV line where they will eventually induce an unconscious state.\n",
    "- Sleep has different stages that lead up to Rapid Eye Movement (REM). We wanted to look at the differences between sleep and anesthesia in regards to brain activity. Since the data we collected did not include sleep ECoG data, we decided to compare Stage 1 of sleep which is a resting state that can be similar to the monkey awake, with its eyes closed. \n",
    "- We decided to focus on the temporal region because we wanted to see if there was any changes in auditory functions during anesthesia and during a resting state. We assumed there would be very small changes between anesthetic and rest state in the occipital region because both states are not receiving any visual input. "
   ]
  },
  {
   "cell_type": "markdown",
   "metadata": {},
   "source": [
    "## Hypothesis: We believe there will be a significant difference between theta and delta waves during eyes closed and anesthesia in the temporal lobe of the brain."
   ]
  },
  {
   "cell_type": "markdown",
   "metadata": {},
   "source": [
    "# Background"
   ]
  },
  {
   "cell_type": "markdown",
   "metadata": {},
   "source": [
    "- Based on a reading, \"Low-frequency (<1 Hz) oscillations in the human sleep electroencephalogram\", low-frequency oscillations were first reported in an anaesthetized cat and then during natural sleep. \n",
    "- \"Anesthesia and Sleep\" states that sleep and anesthesia may be more similar than previously thought. It is oberved that anesthesia activates neural networks normally involved in sleep. The studies were conducted on rats. It is theorized that this is the reason there is variability among anesthetic reactions amongst patients. \n",
    "- In, \"The sedative component of anesthesia is mediated by GABA (A) receptors in an endogenous sleep pathway\", GABA is observed to increase the frequencies in the temporal region of the brain. Anesthesia inhibits GABA which results in lower frequencies in the temproral region when under the anesthetic. (Below is a graph from this paper showing how GABA is affected with certain anesthetics)"
   ]
  },
  {
   "cell_type": "markdown",
   "metadata": {},
   "source": [
    "<img src=\"diagram1.png\" alt=\"Drawing\" style=\"width: 600px;\"/>"
   ]
  },
  {
   "cell_type": "markdown",
   "metadata": {},
   "source": [
    "<img src=\"diagram2.png\" alt=\"Drawing\" style=\"width: 300px;\"/>"
   ]
  },
  {
   "cell_type": "markdown",
   "metadata": {},
   "source": [
    "# Methods"
   ]
  },
  {
   "cell_type": "markdown",
   "metadata": {},
   "source": [
    "- Analyzing the Power Spectrum \n",
    "- Using STFT to compute the Spectrogram\n",
    "- Adopting Welch's Method to find Power Spectral Density\n",
    "- Utilizing Bandpass filters and Hilbert transform to compute instantaneous power and phase"
   ]
  },
  {
   "cell_type": "markdown",
   "metadata": {},
   "source": [
    "# Imports"
   ]
  },
  {
   "cell_type": "code",
   "execution_count": 1,
   "metadata": {},
   "outputs": [],
   "source": [
    "# Importing packages\n",
    "%matplotlib inline\n",
    "from scipy import io, signal\n",
    "import numpy as np\n",
    "import matplotlib.pyplot as plt"
   ]
  },
  {
   "cell_type": "markdown",
   "metadata": {},
   "source": [
    "# Monkey Resting ECoG Data\n",
    "Recorded from monkey whole cortex. ECoG sampled at 1000Hz, 3 channels. From **Yanagawa et al., PLOS ONE, 2013.**\n",
    "\n",
    "In this experiment, the monkey is sitting in a chair with no task demands. 5 minutes of data each are provided during 3 different stages: awake eyes open, awake eyes closed, and anesthetized. They are stored in `ecog_eyesopen`,`ecog_eyesclosed`, and `ecog_anes` respectively. The sampling rate is provided, from which you can compute the time vectors (they can have their own time vectors all starting from 0s).\n",
    "\n",
    "`labels` contains information about which brain regions the 3 channels are located in, while `elec_num` has the electrode number, which you can find on the brain map image included in the same folder (brainmap.jpg)."
   ]
  },
  {
   "cell_type": "code",
   "execution_count": null,
   "metadata": {},
   "outputs": [
    {
     "name": "stdout",
     "output_type": "stream",
     "text": [
      "dict_keys(['__header__', '__version__', '__globals__', 'ecog_anes', 'ecog_eyesclosed', 'ecog_eyesopen', 'elec_num', 'fs', 'labels'])\n",
      "FS: 1000\n",
      "(3, 300000)\n",
      "['cingulate' 'occipital' 'temporal']\n",
      "[52 70 91]\n"
     ]
    }
   ],
   "source": [
    "# Looking through the data set\n",
    "monkey_ecog_data = io.loadmat('ECoG_monkey/ECoG_monkey.mat', squeeze_me = True)\n",
    "print(monkey_ecog_data.keys())\n",
    "print('FS:', monkey_ecog_data['fs'])\n",
    "print(monkey_ecog_data['ecog_eyesopen'].shape)\n",
    "print(monkey_ecog_data['labels'])\n",
    "print(monkey_ecog_data['elec_num'])\n",
    "\n",
    "fs = monkey_ecog_data['fs']"
   ]
  },
  {
   "cell_type": "markdown",
   "metadata": {},
   "source": [
    "# Monkey: Awake Eyes Open"
   ]
  },
  {
   "cell_type": "code",
   "execution_count": null,
   "metadata": {},
   "outputs": [],
   "source": [
    "# Visualizing the eyes open data\n",
    "T_eyesopen = np.arange(0,monkey_ecog_data['ecog_eyesopen'].shape[1]/monkey_ecog_data['fs'],1/monkey_ecog_data['fs'])\n",
    "\n",
    "# Plot data\n",
    "plt.figure(figsize=(15,3))\n",
    "plt.plot(T_eyesopen, monkey_ecog_data['ecog_eyesopen'][0].T, label=\"cingulate\", color=\"#ff6f69\", lw=1)\n",
    "plt.plot(T_eyesopen, monkey_ecog_data['ecog_eyesopen'][1].T, label=\"occipital\", color=\"#ffcc5c\", lw=1)\n",
    "plt.plot(T_eyesopen, monkey_ecog_data['ecog_eyesopen'][2].T, label=\"temporal\", color=\"#88d8b0\", lw=1)\n",
    "plt.xlim([0+60,10+60])\n",
    "plt.xlabel('Time (s)')\n",
    "plt.legend()\n",
    "plt.show()"
   ]
  },
  {
   "cell_type": "markdown",
   "metadata": {},
   "source": [
    "# Monkey: Awake Eyes Closed"
   ]
  },
  {
   "cell_type": "code",
   "execution_count": null,
   "metadata": {},
   "outputs": [],
   "source": [
    "# Visualizing the eyes closed data\n",
    "T_eyesclosed = np.arange(0,monkey_ecog_data['ecog_eyesclosed'].shape[1]/monkey_ecog_data['fs'],1/monkey_ecog_data['fs'])\n",
    "\n",
    "# Plot data\n",
    "plt.figure(figsize=(15,3))\n",
    "plt.plot(T_eyesclosed, monkey_ecog_data['ecog_eyesclosed'][0].T, label=\"cingulate\", color=\"#ff6f69\", lw=1)\n",
    "plt.plot(T_eyesclosed, monkey_ecog_data['ecog_eyesclosed'][1].T, label=\"occipital\", color=\"#ffcc5c\", lw=1)\n",
    "plt.plot(T_eyesclosed, monkey_ecog_data['ecog_eyesclosed'][2].T, label=\"temporal\", color=\"#88d8b0\", lw=1)\n",
    "plt.xlim([0+60,10+60])\n",
    "plt.xlabel('Time (s)')\n",
    "plt.legend()\n",
    "plt.show()"
   ]
  },
  {
   "cell_type": "markdown",
   "metadata": {},
   "source": [
    "# Monkey: Anesthetized"
   ]
  },
  {
   "cell_type": "code",
   "execution_count": null,
   "metadata": {},
   "outputs": [],
   "source": [
    "# Visualizing the anesthetized data\n",
    "T_anes = np.arange(0,monkey_ecog_data['ecog_anes'].shape[1]/monkey_ecog_data['fs'],1/monkey_ecog_data['fs'])\n",
    "\n",
    "# Plot data\n",
    "plt.figure(figsize=(15,3))\n",
    "plt.plot(T_anes, monkey_ecog_data['ecog_anes'][0].T, label=\"cingulate\", color=\"#ff6f69\", lw=1)\n",
    "plt.plot(T_anes, monkey_ecog_data['ecog_anes'][1].T, label=\"occipital\", color=\"#ffcc5c\", lw=1)\n",
    "plt.plot(T_anes, monkey_ecog_data['ecog_anes'][2].T, label=\"temporal\", color=\"#88d8b0\", lw=1)\n",
    "plt.xlim([0+60,10+60])\n",
    "plt.xlabel('Time (s)')\n",
    "plt.legend()\n",
    "plt.show()"
   ]
  },
  {
   "cell_type": "markdown",
   "metadata": {},
   "source": [
    "# Analyze the Power Spectrum"
   ]
  },
  {
   "cell_type": "code",
   "execution_count": null,
   "metadata": {},
   "outputs": [],
   "source": [
    "# Defining a function to plot the power spectrum\n",
    "def plot_pwsp(freqs, pwsp):\n",
    "   plt.plot(freqs, pwsp)\n",
    "   plt.xlabel('Frequency (Hz)'); plt.ylabel('Power (V^2)');"
   ]
  },
  {
   "cell_type": "markdown",
   "metadata": {},
   "source": [
    "# Power Spectrum of Monkey Eyes Open"
   ]
  },
  {
   "cell_type": "code",
   "execution_count": null,
   "metadata": {},
   "outputs": [],
   "source": [
    "# Take fourier transform of data\n",
    "fft_eyesopen = np.fft.fft(monkey_ecog_data['ecog_eyesopen'].T)\n",
    "# Find power of data\n",
    "pwsp_eyesopen = np.abs(fft_eyesopen)**2\n",
    "# Computing frequency from sampling rate\n",
    "freqs_eyesopen = np.fft.fftfreq(len(monkey_ecog_data['ecog_eyesopen'].T), 1/fs)"
   ]
  },
  {
   "cell_type": "code",
   "execution_count": null,
   "metadata": {},
   "outputs": [],
   "source": [
    "# Plot power spectrum\n",
    "plt.figure(figsize=(12,8))\n",
    "plt.plot(freqs_eyesopen, pwsp_eyesopen[:,0], label=\"cingulate\", color=\"#ff6f69\", lw=1)\n",
    "plt.plot(freqs_eyesopen, pwsp_eyesopen[:,1], label=\"occipital\", color=\"#ffcc5c\", lw=1)\n",
    "plt.plot(freqs_eyesopen, pwsp_eyesopen[:,2], label=\"temporal\", color=\"#88d8b0\", lw=1)\n",
    "plt.xlabel('Frequency (Hz)'); plt.ylabel('Power (V^2)');\n",
    "plt.legend(monkey_ecog_data['labels'])\n",
    "plt.xlim([0,10]),plt.ylim([0, 7500000])\n",
    "plt.show()"
   ]
  },
  {
   "cell_type": "markdown",
   "metadata": {},
   "source": [
    "# Power Spectrum of Monkey Eyes Closed"
   ]
  },
  {
   "cell_type": "code",
   "execution_count": null,
   "metadata": {},
   "outputs": [],
   "source": [
    "# Take fourier transform of data\n",
    "fft_eyesclosed = np.fft.fft(monkey_ecog_data['ecog_eyesclosed'].T)\n",
    "# Find power of data\n",
    "pwsp_eyesclosed = np.abs(fft_eyesclosed)**2\n",
    "# Computing frequency from sampling rate\n",
    "freqs_eyesclosed = np.fft.fftfreq(len(monkey_ecog_data['ecog_eyesclosed'].T), 1/fs)"
   ]
  },
  {
   "cell_type": "code",
   "execution_count": null,
   "metadata": {},
   "outputs": [],
   "source": [
    "# Plot power spectrum\n",
    "plt.figure(figsize=(12,8))\n",
    "plt.plot(freqs_eyesclosed, pwsp_eyesclosed[:,0], label=\"cingulate\", color=\"#ff6f69\", lw=1)\n",
    "plt.plot(freqs_eyesclosed, pwsp_eyesclosed[:,1], label=\"occipital\", color=\"#ffcc5c\", lw=1)\n",
    "plt.plot(freqs_eyesclosed, pwsp_eyesclosed[:,2], label=\"temporal\", color=\"#88d8b0\", lw=1)\n",
    "plt.xlabel('Frequency (Hz)'); plt.ylabel('Power (V^2)');\n",
    "plt.legend(monkey_ecog_data['labels'])\n",
    "plt.xlim([0,10]),plt.ylim([0, 2500000])\n",
    "plt.show()"
   ]
  },
  {
   "cell_type": "markdown",
   "metadata": {},
   "source": [
    "# Power Spectrum of Monkey Anesthetized"
   ]
  },
  {
   "cell_type": "code",
   "execution_count": null,
   "metadata": {},
   "outputs": [],
   "source": [
    "# Take fourier transform of data\n",
    "fft_anes = np.fft.fft(monkey_ecog_data['ecog_anes'].T)\n",
    "# Find power of data\n",
    "pwsp_anes = np.abs(fft_anes)**2\n",
    "# Computing frequency from sampling rate\n",
    "freqs_anes = np.fft.fftfreq(len(monkey_ecog_data['ecog_anes'].T), 1/fs)"
   ]
  },
  {
   "cell_type": "code",
   "execution_count": null,
   "metadata": {},
   "outputs": [],
   "source": [
    "# Plot power spectrum\n",
    "plt.figure(figsize=(12,8))\n",
    "plt.plot(freqs_anes, pwsp_anes[:,0], label=\"cingulate\", color=\"#ff6f69\", lw=1)\n",
    "plt.plot(freqs_anes, pwsp_anes[:,1], label=\"occipital\", color=\"#ffcc5c\", lw=1)\n",
    "plt.plot(freqs_anes, pwsp_anes[:,2], label=\"temporal\", color=\"#88d8b0\", lw=1)\n",
    "plt.xlabel('Frequency (Hz)'); plt.ylabel('Power (V^2)');\n",
    "plt.legend(monkey_ecog_data['labels'])\n",
    "plt.xlim([0,10]),plt.ylim([0, 10000000])\n",
    "plt.show()"
   ]
  },
  {
   "cell_type": "markdown",
   "metadata": {},
   "source": [
    "# Spectrogram"
   ]
  },
  {
   "cell_type": "markdown",
   "metadata": {},
   "source": [
    "Using the STFT computed, we've plotted the spectrogram (normalized/spectral density), and PSD."
   ]
  },
  {
   "cell_type": "code",
   "execution_count": null,
   "metadata": {},
   "outputs": [],
   "source": [
    "# Define function to plot spectrogram\n",
    "def plot_spectrogram(spg, t, f, freq_lims=[0,100], plot_db=False):\n",
    "    \"\"\"\n",
    "    Utility function for plotting the spectrogram for you.\n",
    "    \n",
    "    spg: spectrogram, 2D real-numbered array, dimensions are [frequency x time]\n",
    "    t: time axis of spectrogram\n",
    "    f: frequency axis of spectrogram\n",
    "    freq_lims (optional): limits the frequency axis, defaults to 0-100Hz\n",
    "    \"\"\"\n",
    "    plt.figure(figsize=(15,4))\n",
    "    if plot_db:\n",
    "        plt.imshow(10*np.log10(spg), aspect='auto', extent=[t[0], t[-1], f[-1], f[0]])\n",
    "    else:\n",
    "        plt.imshow(spg, aspect='auto', extent=[t[0], t[-1], f[-1], f[0]])\n",
    "    plt.xlabel('Time'); plt.ylabel('Frequency(Hz)');\n",
    "    plt.ylim(freq_lims)\n",
    "    plt.colorbar()\n",
    "    plt.tight_layout()"
   ]
  },
  {
   "cell_type": "code",
   "execution_count": null,
   "metadata": {},
   "outputs": [],
   "source": [
    "# Features of STFT\n",
    "len_win = 1\n",
    "len_overlap = 0.5"
   ]
  },
  {
   "cell_type": "code",
   "execution_count": null,
   "metadata": {},
   "outputs": [],
   "source": [
    "# Retrieving data to plot spectrogram\n",
    "def spectrogram_data (data):\n",
    "    return signal.spectrogram(data, fs, window='rect', nperseg=int(fs*len_win), noverlap=int(fs*len_overlap), detrend=False)"
   ]
  },
  {
   "cell_type": "markdown",
   "metadata": {},
   "source": [
    "## Temporal Region"
   ]
  },
  {
   "cell_type": "code",
   "execution_count": null,
   "metadata": {},
   "outputs": [],
   "source": [
    "# Extracting temporal data from different brain regions\n",
    "temp_anes = monkey_ecog_data['ecog_anes'][2]\n",
    "temp_eyesclosed = monkey_ecog_data['ecog_eyesclosed'][2]\n",
    "temp_eyesopen = monkey_ecog_data['ecog_eyesopen'][2]"
   ]
  },
  {
   "cell_type": "code",
   "execution_count": null,
   "metadata": {},
   "outputs": [],
   "source": [
    "# Plotting log scale spectrogram\n",
    "f_sp, t_sp, closed_sp = spectrogram_data(temp_eyesclosed)\n",
    "plot_spectrogram(np.log(closed_sp), t_sp, f_sp, freq_lims=[0,20], plot_db=False)\n",
    "plt.title('Eyes Closed (Temporal)');\n",
    "plt.xlabel('Time (s)')\n",
    "f_sp, t_sp, anes_sp = spectrogram_data(temp_anes)\n",
    "plot_spectrogram(np.log(anes_sp), t_sp, f_sp, freq_lims=[0,20], plot_db=False)\n",
    "plt.title('Anesthetized (Temporal)');\n",
    "plt.xlabel('Time (s)')"
   ]
  },
  {
   "cell_type": "markdown",
   "metadata": {},
   "source": [
    "### Observation\n",
    "- Signal frequencies are in the same range when computed in log scale"
   ]
  },
  {
   "cell_type": "code",
   "execution_count": null,
   "metadata": {
    "scrolled": false
   },
   "outputs": [],
   "source": [
    "# Plotting in numerical Scale - for clearer color contrast visualization during presentation\n",
    "f_sp, t_sp, closed_sp = spectrogram_data(temp_eyesclosed)\n",
    "plot_spectrogram(closed_sp, t_sp, f_sp, freq_lims=[0,20], plot_db=False)\n",
    "plt.title('Eyes Closed (Temporal)');\n",
    "plt.xlabel('Time (s)')\n",
    "f_sp, t_sp, anes_sp = spectrogram_data(temp_anes)\n",
    "plot_spectrogram(anes_sp, t_sp, f_sp, freq_lims=[0,20], plot_db=False)\n",
    "plt.title('Anesthetized (Temporal)');\n",
    "plt.xlabel('Time (s)')"
   ]
  },
  {
   "cell_type": "markdown",
   "metadata": {},
   "source": [
    "### Observation\n",
    "- Choice of parameter: len_win = 1; len_overlap = 0.5\n",
    "    - higher temporal resolution to visualize changes within 5 min\n",
    "- Eyes closed: fluctuation in different frequencies over 5 min\n",
    "    - lower frequencies (0 - 5 Hz) shows stronger signal \n",
    "    - no concrete pattern in varying frequencies\n",
    "    - signal frequency is relatively high (0 - 160000)\n",
    "- Anesthetized: \n",
    "    - relatively constant frequency (0 - 3 Hz)\n",
    "    - initially, weak signs of lower frequencies (0 - 2 Hz)\n",
    "    - as time passes, frequency signals become stronger and higher frequencies(2 - 3 Hz) become present \n",
    "    - signal frequency is about half of when eyes are closed (0 - 80000)"
   ]
  },
  {
   "cell_type": "markdown",
   "metadata": {},
   "source": [
    "## Anesthetized monkey's Temporal vs Occipital vs Cingulate Region"
   ]
  },
  {
   "cell_type": "code",
   "execution_count": null,
   "metadata": {},
   "outputs": [],
   "source": [
    "# Extracting data from different brain regions on the anesthetized monkey\n",
    "cin_anes = monkey_ecog_data['ecog_anes'][0]\n",
    "occ_anes = monkey_ecog_data['ecog_anes'][1]\n",
    "temp_anes = monkey_ecog_data['ecog_anes'][2]"
   ]
  },
  {
   "cell_type": "code",
   "execution_count": null,
   "metadata": {},
   "outputs": [],
   "source": [
    "# Plotting spectrogram for frequencies ranging between 0 - 8 Hz\n",
    "f_sp, t_sp, anes_sp = spectrogram_data(occ_anes)\n",
    "plot_spectrogram(anes_sp, t_sp, f_sp, freq_lims=[0,8], plot_db=False)\n",
    "plt.title('Anesthetized (Occipital)');\n",
    "plt.xlabel('Time (s)')\n",
    "f_sp, t_sp, anes_sp = spectrogram_data(cin_anes)\n",
    "plot_spectrogram(anes_sp, t_sp, f_sp, freq_lims=[0,8], plot_db=False)\n",
    "plt.title('Anesthetized (Cingulate)');\n",
    "plt.xlabel('Time (s)')\n",
    "f_sp, t_sp, anes_sp = spectrogram_data(temp_anes)\n",
    "plot_spectrogram(anes_sp, t_sp, f_sp, freq_lims=[0,8], plot_db=False)\n",
    "plt.title('Anesthetized (Temporal)');\n",
    "plt.xlabel('Time (s)')"
   ]
  },
  {
   "cell_type": "markdown",
   "metadata": {},
   "source": [
    "### Observation\n",
    "- Zoomed into the frequencies of (0 - 8 Hz)\n",
    "- Increasing power as time passes\n",
    "    - Weaker in the first 50 seconds\n",
    "    - Strongest in the last 100 seconds\n",
    "- Constant dominant frequency throughout the regions (1 - 2 Hz)"
   ]
  },
  {
   "cell_type": "markdown",
   "metadata": {},
   "source": [
    "### Intuition\n",
    "- From study \"Temporal Characteristics of the Sleep EEG Power Spectrum in Critically Ill Children\":\n",
    "    - Healthy children demonstrates well-characterized temporal pattern of slow wave activity (EEG δ power) activity when asleep, with a significant concentration of δ power in the first NREM period, which generally occurs within the first two hours after sleep onset.\n",
    "    - The above statement is consistent with our observation that dominant frequency waves are found when the monkey is in its anesthetized state. The experiment time of 5 minutes also relates to the first NREM period."
   ]
  },
  {
   "cell_type": "markdown",
   "metadata": {},
   "source": [
    "# Power Spectral Density in the Temporal Region: Anesthetized & Eyes Closed"
   ]
  },
  {
   "cell_type": "markdown",
   "metadata": {},
   "source": [
    "Now we'll go over the power spectrum of a signal, which is the squared magnitude of the complex vector at every frequency. This representation tells us which components are the strongest (has the highest power) in our data."
   ]
  },
  {
   "cell_type": "code",
   "execution_count": null,
   "metadata": {},
   "outputs": [],
   "source": [
    "# Computing power spectral density with fourier transformation\n",
    "N_anes = len(temp_anes)\n",
    "freqs_anes = np.fft.fftfreq(N_anes, 1/fs)\n",
    "F_lfp_anes = np.fft.fft(temp_anes)\n",
    "power_anes = np.abs(F_lfp_anes)**2\n",
    "\n",
    "# Plotting PSD for Anesthetized monkey\n",
    "plt.figure(figsize=(14,7))\n",
    "plt.subplot(1,2,1)\n",
    "plt.plot(freqs_anes, power_anes, '.', label='numpy Power', color=\"#fe8a71\")\n",
    "plt.xlabel('Frequency (Hz)');plt.ylabel('Power Spectrum ($V^2$)')\n",
    "plt.xlim([0,15])\n",
    "plt.title('Anesthetized')\n",
    "\n",
    "# Annotating local maximum\n",
    "ymax = max(power_anes)\n",
    "xpos = list(power_anes).index(ymax)\n",
    "xmax = freqs_anes[xpos]\n",
    "plt.annotate('local max', xy=(xmax, ymax), xytext=(xmax +0.2, ymax))\n",
    "\n",
    "# Computing power spectral density with fourier transformation\n",
    "N_closed = len(temp_eyesclosed)\n",
    "freqs_closed = np.fft.fftfreq(N_closed, 1/fs)\n",
    "F_lfp_closed = np.fft.fft(temp_eyesclosed)\n",
    "power_closed = np.abs(F_lfp_closed)**2\n",
    "\n",
    "# Plotting PSD for Eyes Closed monkey\n",
    "plt.subplot(1,2,2)\n",
    "plt.plot(freqs_closed, power_closed, '.', color=\"#fe8a71\")\n",
    "plt.xlabel('Frequency (Hz)');plt.ylabel('Power Spectrum ($V^2$)')\n",
    "plt.xlim([0,15])\n",
    "plt.title('Eyes Closed')\n",
    "\n",
    "# Annotating local maximum\n",
    "ymax = max(power_closed)\n",
    "xpos = list(power_closed).index(ymax)\n",
    "xmax = freqs_closed[xpos]\n",
    "plt.annotate('local max', xy=(xmax, ymax), xytext=(xmax +0.2, ymax))\n",
    "plt.tight_layout()"
   ]
  },
  {
   "cell_type": "markdown",
   "metadata": {},
   "source": [
    "### Observation\n",
    "- Choice of parameter: frequency window limited from 0 - 20 Hz\n",
    "- Similarities: Stronger power in lower frequencies\n",
    "    - Right skewed distribution for both\n",
    "- Differences:\n",
    "    - During anesthetized, frequencies above 2 show an instant decline in power\n",
    "    - During eyes closed (resting), frequencies above 2 also indicates a decline, but much more noisier than the previous"
   ]
  },
  {
   "cell_type": "markdown",
   "metadata": {},
   "source": [
    "# Power Spectral Density of the Anesthetized Monkey in different regions"
   ]
  },
  {
   "cell_type": "code",
   "execution_count": null,
   "metadata": {},
   "outputs": [],
   "source": [
    "# Computing power spectral density with fourier transformation\n",
    "N_temp = len(temp_anes)\n",
    "freqs_temp = np.fft.fftfreq(N_temp, 1/fs)\n",
    "F_lfp_temp = np.fft.fft(temp_anes)\n",
    "power_temp = np.abs(F_lfp_temp)**2\n",
    "\n",
    "# Plotting PSD for Anesthetized monkey\n",
    "plt.figure(figsize=(18,6))\n",
    "plt.subplot(1,3,1)\n",
    "plt.plot(freqs_temp, power_temp, '.', color=\"#fe7558\")\n",
    "plt.xlabel('Frequency (Hz)');plt.ylabel('Power Spectrum ($V^2$)')\n",
    "plt.xlim([0,15])\n",
    "plt.title('Temporal Region')\n",
    "\n",
    "# Computing power spectral density with fourier transformation\n",
    "N_occ = len(occ_anes)\n",
    "freqs_occ = np.fft.fftfreq(N_occ, 1/fs)\n",
    "F_lfp_occ = np.fft.fft(occ_anes)\n",
    "power_occ = np.abs(F_lfp_occ)**2\n",
    "\n",
    "# Plotting PSD for Anesthetized monkey\n",
    "plt.subplot(1,3,2)\n",
    "plt.plot(freqs_occ, power_occ, '.', color=\"#fe8a71\", alpha = 0.8)\n",
    "plt.xlabel('Frequency (Hz)');plt.ylabel('Power Spectrum ($V^2$)')\n",
    "plt.xlim([0,15])\n",
    "plt.title('Occipital Region')\n",
    "\n",
    "# Computing power spectral density with fourier transformation\n",
    "N_cin = len(cin_anes)\n",
    "freqs_cin = np.fft.fftfreq(N_cin, 1/fs)\n",
    "F_lfp_cin = np.fft.fft(cin_anes)\n",
    "power_cin = np.abs(F_lfp_cin)**2\n",
    "\n",
    "# Plotting PSD for Anesthetized monkey\n",
    "plt.subplot(1,3,3)\n",
    "plt.plot(freqs_cin, power_cin, '.',  color=\"#fe9f8a\", alpha = 0.6)\n",
    "plt.xlabel('Frequency (Hz)');plt.ylabel('Power Spectrum ($V^2$)')\n",
    "plt.xlim([0,15])\n",
    "plt.title('Cingulate')\n",
    "\n",
    "plt.tight_layout()"
   ]
  },
  {
   "cell_type": "markdown",
   "metadata": {},
   "source": [
    "### Observation\n",
    "- Similarities: Stronger power in lower frequencies & weak power in higher frequencies (almost a flat line)\n",
    "- Differences:\n",
    "    - Temporal region shows almost 0 activity above 2Hz\n",
    "    - Power in the cingulate region is on a weaker scale than the temporal region and the occipital region"
   ]
  },
  {
   "cell_type": "markdown",
   "metadata": {},
   "source": [
    "### Intuition\n",
    "- \"Low-frequency (<1 Hz) oscillations in the human sleep electroencephalogram\", low-frequency oscillations were first reported in an anaesthetized cat and then during natural sleep\n",
    "- From Regional low-frequency oscillations in human rapid-eye movement sleep:\n",
    "    - A cluster of low frequency oscillations consisted of occipital slow waves (<2 Hz). This finding is consistent with previous work, describing the maximal peak of low-delta activity in occipital areas.\n",
    "    - Our observation of local occipital slow waves is consistent with the hypothesis that slow waves in primary cortices could be responsible for sensory disconnection during sleep"
   ]
  },
  {
   "cell_type": "markdown",
   "metadata": {},
   "source": [
    "## Welch's PSD (Anesthetized - Temporal) in log-scale"
   ]
  },
  {
   "cell_type": "code",
   "execution_count": null,
   "metadata": {},
   "outputs": [],
   "source": [
    "# Useful features of Welch's STFT\n",
    "len_win = 1\n",
    "len_overlap = 0.5\n",
    "# Computing welch's Spectrogram\n",
    "f_anes, p_anes = signal.welch(temp_anes,fs,window='boxcar',nperseg=int(fs*len_win),noverlap=int(fs*len_overlap))\n",
    "\n",
    "# Plotting Welch's PSD\n",
    "plt.figure(figsize=(15,5))\n",
    "# Zoom in to Delta's frequency range\n",
    "plt.subplot(1,3,1)\n",
    "plt.title('Delta (0.5-4Hz)')\n",
    "plt.xlabel('Frequency (Hz)'), plt.ylabel('Power ($V^2$)')\n",
    "plt.loglog(f_anes, p_anes, label = 'welch PSD', alpha = 0.6, lw=3)\n",
    "plt.xlim([0.5, 4])\n",
    "plt.ylim([10**2,10**6])\n",
    "\n",
    "# Zoom in to Theta's frequency range\n",
    "plt.subplot(1,3,2)\n",
    "plt.title('Theta (4-8Hz)')\n",
    "plt.xlabel('Frequency (Hz)'), plt.ylabel('Power ($V^2$)')\n",
    "plt.loglog(f_anes, p_anes, label = 'welch PSD', alpha = 0.6, lw=3)\n",
    "plt.xlim([4, 8])\n",
    "plt.ylim([10**2,10**6])\n",
    "\n",
    "# Zoom in to 0-20Hz\n",
    "plt.subplot(1,3,3)\n",
    "plt.title('0-20Hz')\n",
    "plt.xlabel('Frequency (Hz)'), plt.ylabel('Power ($V^2$)')\n",
    "plt.loglog(f_anes, p_anes, label = 'welch PSD', alpha = 0.6, lw=3)\n",
    "plt.xlim([0, 20])\n",
    "plt.ylim([10**2,10**6])\n",
    "\n",
    "# Annotating local maximum\n",
    "ymax = max(p_anes)\n",
    "xpos = list(p_anes).index(ymax)\n",
    "xmax = f_anes[xpos]\n",
    "plt.annotate('local max', xy=(xmax, ymax), xytext=(xmax +0.2, ymax))"
   ]
  },
  {
   "cell_type": "code",
   "execution_count": null,
   "metadata": {},
   "outputs": [],
   "source": [
    "# Printing the dominant frequency\n",
    "print(list(p_anes).index(max(p_anes)))"
   ]
  },
  {
   "cell_type": "markdown",
   "metadata": {},
   "source": [
    "### Observation\n",
    "- Choice of scale: log-scale to more accurately describe the trend between power and frequency\n",
    "- Declining trend from 0 - 20 Hz\n",
    "- Dominant frequency from 0.5 - 2Hz"
   ]
  },
  {
   "cell_type": "markdown",
   "metadata": {},
   "source": [
    "## Welch's PSD (Eyes Closed - Temporal) in log-scale"
   ]
  },
  {
   "cell_type": "code",
   "execution_count": null,
   "metadata": {},
   "outputs": [],
   "source": [
    "# Useful features of Welch's STFT\n",
    "len_win = 1\n",
    "len_overlap = 0.5\n",
    "# Computing welch's Spectrogram\n",
    "f_closed, p_closed = signal.welch(temp_eyesclosed,fs,window='boxcar',nperseg=int(fs*len_win),noverlap=int(fs*len_overlap))\n",
    "\n",
    "# Plotting Welch's PSD\n",
    "plt.figure(figsize=(15,5))\n",
    "# Zoom in to Delta's frequency range\n",
    "plt.subplot(1,3,1)\n",
    "plt.title('Delta (0.5-4Hz)')\n",
    "plt.xlabel('Frequency (Hz)'), plt.ylabel('Power ($V^2$)')\n",
    "plt.loglog(f_closed, p_closed, label = 'welch PSD', alpha = 0.6, lw=3)\n",
    "plt.xlim([0.5, 4])\n",
    "plt.ylim([10**2,10**6])\n",
    "\n",
    "# Zoom in to Theta's frequency range\n",
    "plt.subplot(1,3,2)\n",
    "plt.title('Theta (4-8Hz)')\n",
    "plt.xlabel('Frequency (Hz)'), plt.ylabel('Power ($V^2$)')\n",
    "plt.loglog(f_closed, p_closed, label = 'welch PSD', alpha = 0.6, lw=3)\n",
    "plt.xlim([4, 8])\n",
    "plt.ylim([10**2,10**6])\n",
    "\n",
    "# Zoom in to 0-20Hz\n",
    "plt.subplot(1,3,3)\n",
    "plt.title('0-20Hz')\n",
    "plt.xlabel('Frequency (Hz)'), plt.ylabel('Power ($V^2$)')\n",
    "plt.loglog(f_closed, p_closed, label = 'welch PSD', alpha = 0.6, lw=3)\n",
    "plt.xlim([0, 20])\n",
    "plt.ylim([10**2,10**6])"
   ]
  },
  {
   "cell_type": "code",
   "execution_count": null,
   "metadata": {},
   "outputs": [],
   "source": [
    "# Printing the dominant frequency\n",
    "print(list(p_closed).index(max(p_closed)))"
   ]
  },
  {
   "cell_type": "markdown",
   "metadata": {},
   "source": [
    "### Observation\n",
    "- Choice of scale: log-scale to more accurately describe the trend between power and frequency\n",
    "- Declining trend from 0 - 20 Hz (much faster in higher frequencies than anesthetized)\n",
    "- Dominant frequency in lower waves"
   ]
  },
  {
   "cell_type": "markdown",
   "metadata": {},
   "source": [
    "### Comparing Welch's PSD in Temporal Region: Anesthetized vs Eyes Closed in Delta Range (0.5 - 4Hz)"
   ]
  },
  {
   "cell_type": "code",
   "execution_count": null,
   "metadata": {},
   "outputs": [],
   "source": [
    "# Plotting Welch's PSD for Eyes Closed in delta range\n",
    "plt.figure(figsize=(14,7))\n",
    "plt.subplot(1,2,1)\n",
    "plt.title('Eyes Closed')\n",
    "plt.xlabel('Frequency (Hz)'), plt.ylabel('Power ($V^2$)')\n",
    "plt.loglog(f_closed, p_closed, label = 'welch PSD', alpha = 0.6, lw=3)\n",
    "plt.xlim([0.5, 4])\n",
    "plt.ylim([10**3,10**6])\n",
    "\n",
    "# Plotting Welch's PSD for Anesthetized in delta range\n",
    "plt.subplot(1,2,2)\n",
    "plt.title('Anesthetized')\n",
    "plt.xlabel('Frequency (Hz)'), plt.ylabel('Power ($V^2$)')\n",
    "plt.loglog(f_anes, p_anes, label = 'welch PSD', alpha = 0.6, lw=3)\n",
    "plt.xlim([0.5, 4])\n",
    "plt.ylim([10**3,10**6])"
   ]
  },
  {
   "cell_type": "code",
   "execution_count": null,
   "metadata": {},
   "outputs": [],
   "source": [
    "# unpack the variables\n",
    "fs = monkey_ecog_data['fs'] # sampling rate \n",
    "labels = monkey_ecog_data['labels']\n",
    "print('Sampling rate = %iHz'%fs)\n",
    "\n",
    "# the data for awake eyes open, awake eye closed and anesthetized\n",
    "ecog_eyesopen = monkey_ecog_data['ecog_eyesopen']\n",
    "ecog_eyesclosed = monkey_ecog_data['ecog_eyesclosed']\n",
    "ecog_anes = monkey_ecog_data['ecog_anes']\n",
    "\n",
    "# the total time (5 minutes) for awake eyes closed and anesthetized\n",
    "T = np.arange(0,ecog_eyesclosed.shape[1]/fs,1/fs)"
   ]
  },
  {
   "cell_type": "markdown",
   "metadata": {},
   "source": [
    "# Hilbert Transformation \n",
    "In this section, we create a filter to filter the signal to constrain the signal bandwidth to two particular frequency ranges(the delta frequency and the theta frequency)\n",
    "\n",
    "Zoom into the first 30 seconds of the data for all the plots below."
   ]
  },
  {
   "cell_type": "markdown",
   "metadata": {},
   "source": [
    "- Design a 1000-point **bandpass filter** that has a passband of 4-8 Hz and store the coefficients in the variable `theta_filter`.\n",
    "- Use np.convolve() to filter the ecog_eyesclosed signal in temporal, time, and store it in the variable `theta_osc`. Plot both the original and bandpass filtered signal in the same plot. Zoom into the first 2 seconds.\n",
    "- Compute the analytic signal of the filtered oscillation, and plot the filtered signal, real and imaginary components of it in the same plot. \n",
    "- amplitude = signal envelope of the sinusoid and phase is the phase"
   ]
  },
  {
   "cell_type": "code",
   "execution_count": null,
   "metadata": {},
   "outputs": [],
   "source": [
    "# compute the power and phase\n",
    "def compute_power_phase(x_a):\n",
    "    power = np.abs(x_a)**2\n",
    "    phase = np.angle(x_a)\n",
    "    return power, phase"
   ]
  },
  {
   "cell_type": "code",
   "execution_count": null,
   "metadata": {},
   "outputs": [],
   "source": [
    "# calculate the instantaneus rate of change\n",
    "def derivative(freq, phase):\n",
    "    der = []\n",
    "    for i in range(len(phase)-1):\n",
    "        d = (phase[i+1]-phase[i]) / (freq[i+1] -freq[i])\n",
    "        der.append(d)\n",
    "    return np.array(der)   "
   ]
  },
  {
   "cell_type": "markdown",
   "metadata": {},
   "source": [
    "## Theta Filter"
   ]
  },
  {
   "cell_type": "code",
   "execution_count": null,
   "metadata": {},
   "outputs": [],
   "source": [
    "# the theta filter\n",
    "theta_filter = signal.firwin(1000, cutoff= [4, 10], fs=fs, pass_zero = False)"
   ]
  },
  {
   "cell_type": "markdown",
   "metadata": {},
   "source": [
    "### Compute the hilbert transformation of the temporal signal when monkey is awake eyes open"
   ]
  },
  {
   "cell_type": "code",
   "execution_count": null,
   "metadata": {},
   "outputs": [],
   "source": [
    "# the theta osccilation when awake eyes open\n",
    "theta_osc_tem_open = np.convolve(ecog_eyesopen.T[:,2], theta_filter, mode = 'same')\n",
    "theta_x_a_tem_open = signal.hilbert(theta_osc_tem_open)\n",
    "\n",
    "# the theta phase and theta power when awake eyes closed\n",
    "theta_power_tem_open, theta_phase_tem_open = compute_power_phase(theta_x_a_tem_open)"
   ]
  },
  {
   "cell_type": "markdown",
   "metadata": {},
   "source": [
    "### Compute the hilbert transformation of the temporal signal when monkey is awake eyes closed"
   ]
  },
  {
   "cell_type": "code",
   "execution_count": null,
   "metadata": {},
   "outputs": [],
   "source": [
    "# the theta osccilation when awake eyes closed\n",
    "theta_osc_tem_closed = np.convolve(ecog_eyesclosed.T[:,2], theta_filter, mode = 'same')\n",
    "theta_x_a_tem_closed = signal.hilbert(theta_osc_tem_closed)\n",
    "\n",
    "# the theta phase and theta power when awake eyes closed\n",
    "theta_power_tem_closed, theta_phase_tem_closed = compute_power_phase(theta_x_a_tem_closed)"
   ]
  },
  {
   "cell_type": "markdown",
   "metadata": {},
   "source": [
    "### Compute the hilbert transformation of the temporal signal when monkey is anesthetized"
   ]
  },
  {
   "cell_type": "code",
   "execution_count": null,
   "metadata": {},
   "outputs": [],
   "source": [
    "theta_osc_tem_anes = np.convolve(ecog_anes.T[:,2], theta_filter, mode = 'same')\n",
    "theta_x_a_tem_anes = signal.hilbert(theta_osc_tem_anes)\n",
    "\n",
    "theta_power_tem_anes, theta_phase_tem_anes = compute_power_phase(theta_x_a_tem_anes)"
   ]
  },
  {
   "cell_type": "code",
   "execution_count": null,
   "metadata": {},
   "outputs": [],
   "source": [
    "plt.figure(figsize=(15,10))\n",
    "\n",
    "# plot orignal the signal and the bandpass filtered signal\n",
    "plt.subplot(4,1,1)\n",
    "# plt.plot(T, theta_osc_tem_open, label= \"Open\", lw=1)\n",
    "plt.plot(T, theta_osc_tem_closed, label= \"Closed\", lw=1)\n",
    "plt.plot(T, theta_x_a_tem_anes, label= \"Anesthetized\", lw=1)\n",
    "plt.xlabel('Time (s)'),plt.ylabel('Voltage(uV)')\n",
    "plt.title(\"Filtered Temporal Signal\")\n",
    "plt.xlim([0,30])\n",
    "plt.legend()\n",
    "\n",
    "\n",
    "# plot the real and imaginary components of the analytic signal\n",
    "plt.subplot(4,1,2)\n",
    "# plt.plot(T, theta_x_a_tem_open.imag, label='Open', alpha=0.5, lw=2)\n",
    "plt.plot(T, theta_x_a_tem_closed.imag, label='Closed', alpha=0.5, lw=2)\n",
    "plt.plot(T, theta_x_a_tem_anes.imag, label='Anesthetized', alpha=0.5, lw=2)\n",
    "plt.xlabel('Time (s)'); plt.ylabel('Analytic Signal')\n",
    "plt.title(\"Hilbert Imaginary\")\n",
    "plt.xlim([0,30])\n",
    "plt.legend()\n",
    "\n",
    "# plot the instantaneous power \n",
    "plt.subplot(4,1,3)\n",
    "# plt.plot(T, theta_power_tem_open, label= \"Open\")\n",
    "plt.plot(T, theta_power_tem_closed, label= \"Closed\")\n",
    "plt.plot(T, theta_power_tem_anes, label= \"Anesthetized\")\n",
    "plt.xlabel('Time (s)'), plt.ylabel('Power (uV^2)')\n",
    "plt.title(\"Instantaneous Power\")\n",
    "plt.xlim([120,150])\n",
    "plt.legend()\n",
    "\n",
    "\n",
    "# plot the instantaneous phase\n",
    "plt.subplot(4,1,4)\n",
    "# plt.plot(T, theta_phase_tem_open, '.', label= \"Open\", ms=1)\n",
    "plt.plot(T, theta_phase_tem_closed, '.', label= \"Closed\", ms=1)\n",
    "plt.plot(T, theta_phase_tem_anes, '.', label= \"Anesthetized\", ms=1)\n",
    "plt.xlabel('Time (s)'), plt.ylabel('Angle')\n",
    "plt.title(\"Instantaneous Phase\")\n",
    "plt.xlim([120,130])\n",
    "plt.legend()\n",
    "\n",
    "plt.tight_layout()"
   ]
  },
  {
   "cell_type": "markdown",
   "metadata": {},
   "source": [
    "- when monkey is in the status of awake eyes closed, the theta wave is the evident wave.\n",
    "- consistent with the findings about the theta wave, which occurs more frequenctly when humans are in the deep relaxation and mediation."
   ]
  },
  {
   "cell_type": "code",
   "execution_count": null,
   "metadata": {},
   "outputs": [],
   "source": [
    "# plot the trace of the first 2 seconds of the analytic signal in the complex domain\n",
    "plt.figure(figsize=(6,6))\n",
    "plt.axhline(color='k', lw=1)\n",
    "plt.axvline(color='k', lw=1)\n",
    "plt.plot(theta_x_a_tem_closed.real[:2000], theta_x_a_tem_closed.imag[:2000], '.-', label=\"Closed\", alpha=0.5, ms=2)\n",
    "plt.plot(theta_x_a_tem_anes.real[:2000], theta_x_a_tem_anes.imag[:2000], '.-', label=\"Anesthetized\", alpha=0.5, ms=2)\n",
    "plt.xlabel('Real');plt.ylabel('Imaginary')\n",
    "plt.title(\"Trace of Analytic Signal in the Complex Domain\")\n",
    "plt.legend()\n",
    "plt.show()"
   ]
  },
  {
   "cell_type": "markdown",
   "metadata": {},
   "source": [
    "## Delta Filter"
   ]
  },
  {
   "cell_type": "code",
   "execution_count": null,
   "metadata": {},
   "outputs": [],
   "source": [
    "# the delta filter\n",
    "delta_filter = signal.firwin(1000, cutoff= [0.5, 4], fs=fs, pass_zero = False)"
   ]
  },
  {
   "cell_type": "markdown",
   "metadata": {},
   "source": [
    "### Compute the hilbert transformation of the temporal signal when monkey is awake eyes open"
   ]
  },
  {
   "cell_type": "code",
   "execution_count": null,
   "metadata": {},
   "outputs": [],
   "source": [
    "# the delta osccilation when awake eyes open\n",
    "delta_osc_tem_open = np.convolve(ecog_eyesopen.T[:,2], delta_filter, mode = 'same')\n",
    "delta_x_a_tem_open = signal.hilbert(delta_osc_tem_open)\n",
    "\n",
    "# the delta phase and delta power when awake eyes open\n",
    "delta_power_tem_open, delta_phase_tem_open = compute_power_phase(delta_x_a_tem_open)"
   ]
  },
  {
   "cell_type": "markdown",
   "metadata": {},
   "source": [
    "### Compute the hilbert transformation of the temporal signal when monkey is awake eyes closed"
   ]
  },
  {
   "cell_type": "code",
   "execution_count": null,
   "metadata": {},
   "outputs": [],
   "source": [
    "# the delta osccilation when awake eyes closed\n",
    "delta_osc_tem_closed = np.convolve(ecog_eyesclosed.T[:,2], delta_filter, mode = 'same')\n",
    "delta_x_a_tem_closed = signal.hilbert(delta_osc_tem_closed)\n",
    "\n",
    "# the delta phase and delta power when awake eyes closed\n",
    "delta_power_tem_closed, delta_phase_tem_closed = compute_power_phase(delta_x_a_tem_closed)"
   ]
  },
  {
   "cell_type": "markdown",
   "metadata": {},
   "source": [
    "### Compute the hilbert transformation of the temporal signal when monkey is Anesthetized"
   ]
  },
  {
   "cell_type": "code",
   "execution_count": null,
   "metadata": {},
   "outputs": [],
   "source": [
    "# the delta osccilation when anesthetized\n",
    "delta_osc_tem_anes = np.convolve(ecog_anes.T[:,2], delta_filter, mode = 'same')\n",
    "delta_x_a_tem_anes = signal.hilbert(delta_osc_tem_anes)\n",
    "\n",
    "# the delta phase and delta power when anesthetized\n",
    "delta_power_tem_anes, delta_phase_tem_anes = compute_power_phase(delta_x_a_tem_anes)"
   ]
  },
  {
   "cell_type": "code",
   "execution_count": null,
   "metadata": {},
   "outputs": [],
   "source": [
    "plt.figure(figsize=(15,10))\n",
    "\n",
    "# plot orignal the signal and the bandpass filtered signal\n",
    "plt.subplot(4,1,1)\n",
    "# plt.plot(T, delta_osc_tem_open, label= \"Open\", lw=1)\n",
    "plt.plot(T, delta_osc_tem_closed, label= \"Closed\", lw=1)\n",
    "plt.plot(T, delta_x_a_tem_anes, label= \"Anesthetized\", lw=1)\n",
    "plt.xlabel('Time (s)'),plt.ylabel('Voltage(uV)')\n",
    "plt.title(\"Filtered Temporal Signal\")\n",
    "plt.xlim([0,30])\n",
    "plt.legend()\n",
    "\n",
    "\n",
    "# plot the real and imaginary components of the analytic signal\n",
    "plt.subplot(4,1,2)\n",
    "# plt.plot(T, delta_x_a_tem_open.imag, label='Open', alpha=0.5, lw=2)\n",
    "plt.plot(T, delta_x_a_tem_closed.imag, label='Closed', alpha=0.5, lw=2)\n",
    "plt.plot(T, delta_x_a_tem_anes.imag, label='Anesthetized', alpha=0.5, lw=2)\n",
    "plt.xlabel('Time (s)'); plt.ylabel('Analytic Signal')\n",
    "plt.title(\"Hilbert Imaginary\")\n",
    "plt.xlim([0,30])\n",
    "plt.legend()\n",
    "\n",
    "# plot the instantaneous power \n",
    "plt.subplot(4,1,3)\n",
    "# plt.plot(T, delta_power_tem_open, label= \"Open\")\n",
    "plt.plot(T, delta_power_tem_closed, label= \"Closed\")\n",
    "plt.plot(T, delta_power_tem_anes, label= \"Anesthetized\")\n",
    "plt.xlabel('Time (s)'), plt.ylabel('Power (uV^2)')\n",
    "plt.title(\"Instantaneous Power\")\n",
    "plt.xlim([120,150])\n",
    "plt.legend()\n",
    "\n",
    "\n",
    "# plot the instantaneous phase\n",
    "plt.subplot(4,1,4)\n",
    "# plt.plot(T, delta_phase_tem_open, '.', label= \"Open\", ms=1)\n",
    "plt.plot(T, delta_phase_tem_closed, '.', label= \"Closed\", ms=1)\n",
    "plt.plot(T, delta_phase_tem_anes, '.', label= \"Anesthetized\", ms=1)\n",
    "plt.xlabel('Time (s)'), plt.ylabel('Angle')\n",
    "plt.title(\"Instantaneous Phase\")\n",
    "plt.xlim([120,130])\n",
    "plt.legend()\n",
    "\n",
    "plt.tight_layout()"
   ]
  },
  {
   "cell_type": "markdown",
   "metadata": {},
   "source": [
    "- when monkey is in the status of anesthetized, the delta wave is the evident wave.\n",
    "- consistent with the findings about the delta wave, which occurs more frequenctly when humans are in the deep and dreamless sleep."
   ]
  },
  {
   "cell_type": "code",
   "execution_count": null,
   "metadata": {},
   "outputs": [],
   "source": [
    "# plot the trace of the first 2 seconds of the analytic signal in the complex domain.\n",
    "plt.figure(figsize=(6,6))\n",
    "plt.axhline(color='k', lw=1)\n",
    "plt.axvline(color='k', lw=1)\n",
    "plt.plot(delta_x_a_tem_closed.real[:2000], delta_x_a_tem_closed.imag[:2000], '.-', label=\"Closed\", alpha=0.5, ms=2)\n",
    "plt.plot(delta_x_a_tem_anes.real[:2000], delta_x_a_tem_anes.imag[:2000], '.-', label=\"Anesthetized\", alpha=0.5, ms=2)\n",
    "plt.xlabel('Real');plt.ylabel('Imaginary')\n",
    "plt.title(\"Trace of Analytic Signal in the Complex Domain\")\n",
    "plt.legend()\n",
    "plt.show()"
   ]
  },
  {
   "cell_type": "markdown",
   "metadata": {},
   "source": [
    "# Coherence\n",
    "#### Additional Attempt on Analysis"
   ]
  },
  {
   "cell_type": "code",
   "execution_count": null,
   "metadata": {},
   "outputs": [],
   "source": [
    "# Trial times\n",
    "time = np.arange(0,len(temp_anes)/fs,1/fs)"
   ]
  },
  {
   "cell_type": "code",
   "execution_count": null,
   "metadata": {},
   "outputs": [],
   "source": [
    "# Translating time stamps to the specified parameters\n",
    "def secs_to_points(fs, len_win, len_overlap):\n",
    "    nperseg = len_win * fs\n",
    "    noverlap = len_overlap * fs\n",
    "    return int(nperseg), int(noverlap)"
   ]
  },
  {
   "cell_type": "code",
   "execution_count": null,
   "metadata": {},
   "outputs": [],
   "source": [
    "# Use these length settings for STFT\n",
    "nperseg, noverlap = secs_to_points(fs, len_win=2, len_overlap=1)\n",
    "# Compute stft\n",
    "f_stft, t_stft, stft = signal.stft(occ_anes, fs, nperseg = nperseg, noverlap = noverlap)\n",
    "# Find the index (k) of 1Hz.\n",
    "f_ind = np.where(f_stft == 1)\n",
    "# Grab random slices of the STFT to compute coherence \n",
    "np.random.seed(0)\n",
    "trial_inds = np.random.randint(0,len(t_stft), size=len(time))[:20]"
   ]
  },
  {
   "cell_type": "code",
   "execution_count": null,
   "metadata": {},
   "outputs": [],
   "source": [
    "plt.figure(figsize=(5,5))\n",
    "plt.xlabel('Real'); plt.ylabel('Imag')\n",
    "# plot all trial vectors\n",
    "normalized = []\n",
    "for trial_ind in trial_inds:\n",
    "    X_trial = stft[f_ind, trial_ind].squeeze()\n",
    "    # normalize by vector length\n",
    "    X_trial = X_trial/np.abs(X_trial) #_YOUR_CODE_HERE\n",
    "    normalized.append(X_trial)\n",
    "    plt.plot([0,X_trial.real], [0, X_trial.imag], 'k.--', alpha=0.3)\n",
    "    \n",
    "# plot mean vector\n",
    "X_mean = np.mean(normalized)#_YOUR_CODE_HERE\n",
    "plt.plot([0,X_mean.real], [0, X_mean.imag], 'ko-', label='Random mean')\n",
    "coherence_random = np.abs(np.mean(normalized))#_YOUR_CODE_HERE\n",
    "print(\"random coherence: \" + str(coherence_random))"
   ]
  },
  {
   "cell_type": "markdown",
   "metadata": {},
   "source": [
    "# Conclusion"
   ]
  },
  {
   "cell_type": "markdown",
   "metadata": {},
   "source": [
    "There is a difference between theta and delta waves in the temporal region of the brain during two different states, resting state also known as eyes closed and anesthesia. We can see that theta waves are more prominent during resting state and delta is more dominant during the anesthetic state from our three neural signal analysis. "
   ]
  },
  {
   "cell_type": "markdown",
   "metadata": {},
   "source": [
    "# References"
   ]
  },
  {
   "cell_type": "markdown",
   "metadata": {},
   "source": [
    "- https://www.ncbi.nlm.nih.gov/pubmed/9300413\n",
    "- https://www.ncbi.nlm.nih.gov/pubmed/15144963\n",
    "- https://www.nature.com/articles/nn913.pdf\n",
    "- https://www.biorxiv.org/content/10.1101/397224v1.full\n",
    "- https://www.ncbi.nlm.nih.gov/pmc/articles/PMC4661338/"
   ]
  },
  {
   "cell_type": "markdown",
   "metadata": {},
   "source": [
    "# Contributions"
   ]
  },
  {
   "cell_type": "markdown",
   "metadata": {},
   "source": [
    "- We all worked together to accomplish the analyis and create this presentation."
   ]
  }
 ],
 "metadata": {
  "kernelspec": {
   "display_name": "Python 3",
   "language": "python",
   "name": "python3"
  },
  "language_info": {
   "codemirror_mode": {
    "name": "ipython",
    "version": 3
   },
   "file_extension": ".py",
   "mimetype": "text/x-python",
   "name": "python",
   "nbconvert_exporter": "python",
   "pygments_lexer": "ipython3",
   "version": "3.6.6"
  }
 },
 "nbformat": 4,
 "nbformat_minor": 2
}
